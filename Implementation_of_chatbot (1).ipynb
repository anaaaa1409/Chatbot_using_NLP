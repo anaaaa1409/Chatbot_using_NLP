{
  "nbformat": 4,
  "nbformat_minor": 0,
  "metadata": {
    "colab": {
      "private_outputs": true,
      "provenance": []
    },
    "kernelspec": {
      "name": "python3",
      "display_name": "Python 3"
    },
    "language_info": {
      "name": "python"
    }
  },
  "cells": [
    {
      "cell_type": "code",
      "execution_count": null,
      "metadata": {
        "id": "mUvkc0o5TB3J"
      },
      "outputs": [],
      "source": [
        "pip install nltk scikit-learn streamlit"
      ]
    },
    {
      "cell_type": "code",
      "source": [
        "import nltk\n",
        "import random\n",
        "import os\n",
        "import ssl\n",
        "import streamlit as st\n",
        "from sklearn.feature_extraction.text import TfidfVectorizer\n",
        "from sklearn.linear_model import LogisticRegression\n",
        "\n"
      ],
      "metadata": {
        "id": "sj_Uq8zjVRvg"
      },
      "execution_count": null,
      "outputs": []
    },
    {
      "cell_type": "code",
      "source": [
        "ssl._create_default_https_context = ssl._create_unverified_context\n",
        "nltk.data.path.append(os.path.abspath(\"nltk_data\"))\n",
        "nltk.download('punkt')"
      ],
      "metadata": {
        "id": "HyYXcRVcWCwy"
      },
      "execution_count": null,
      "outputs": []
    },
    {
      "cell_type": "code",
      "source": [
        "intents = [\n",
        "    {\n",
        "        \"tag\": \"greeting\",\n",
        "        \"patterns\": [\"Hi\", \"Hello\", \"Hey\", \"How are you\", \"What's up\"],\n",
        "        \"responses\": [\"Hi there\", \"Hello\", \"Hey\", \"I'm fine, thank you\", \"Nothing much\"]\n",
        "    },\n",
        "    {\n",
        "        \"tag\": \"goodbye\",\n",
        "        \"patterns\": [\"Bye\", \"See you later\", \"Goodbye\", \"Take care\"],\n",
        "        \"responises\": [\"Goodbye\", \"See you later\", \"Take care\"]\n",
        "    },\n",
        "    {\n",
        "        \"tag\": \"thanks\",\n",
        "        \"patterns\": [\"Thank you\", \"Thanks\", \"Thanks a lot\", \"I appreciate it\"],\n",
        "        \"responses\": [\"You're welcome\", \"No problem\", \"Glad I could help\"]\n",
        "    },\n",
        "    {\n",
        "        \"tag\": \"about\",\n",
        "        \"patterns\": [\"What can you do\", \"Who are you\", \"What are you\", \"What is your purpose\"],\n",
        "        \"responses\": [\"I am a chatbot\", \"My purpose is to assist you\", \"I can answer questions and provide assistance\"]\n",
        "    },\n",
        "    {\n",
        "        \"tag\": \"help\",\n",
        "        \"patterns\": [\"Help\", \"I need help\", \"Can you help me\", \"What should I do\"],\n",
        "        \"responses\": [\"Sure, what do you need help with?\", \"I'm here to help. What's the problem?\", \"How can I assist you?\"]\n",
        "    },\n",
        "    {\n",
        "        \"tag\": \"age\",\n",
        "        \"patterns\": [\"How old are you\", \"What's your age\"],\n",
        "        \"responses\": [\"I don't have an age. I'm a chatbot.\", \"I was just born in the digital world.\", \"Age is just a number for me.\"]\n",
        "    },\n",
        "    {\n",
        "        \"tag\": \"weather\",\n",
        "        \"patterns\": [\"What's the weather like\", \"How's the weather today\"],\n",
        "        \"responses\": [\"I'm sorry, I cannot provide real-time weather information.\", \"You can check the weather on a weather app or website.\"]\n",
        "    },\n",
        "    {\n",
        "        \"tag\": \"budget\",\n",
        "        \"patterns\": [\"How can I make a budget\", \"What's a good budgeting strategy\", \"How do I create a budget\"],\n",
        "        \"responses\": [\"To make a budget, start by tracking your income and expenses. Then, allocate your income towards essential expenses like rent, food, and bills. Next, allocate some of your income towards savings and debt repayment. Finally, allocate the remainder of your income towards discretionary expenses like entertainment and hobbies.\", \"A good budgeting strategy is to use the 50/30/20 rule. This means allocating 50% of your income towards essential expenses, 30% towards discretionary expenses, and 20% towards savings and debt repayment.\", \"To create a budget, start by setting financial goals for yourself. Then, track your income and expenses for a few months to get a sense of where your money is going. Next, create a budget by allocating your income towards essential expenses, savings and debt repayment, and discretionary expenses.\"]\n",
        "    },\n",
        "    {\n",
        "        \"tag\": \"credit_score\",\n",
        "        \"patterns\": [\"What is a credit score\", \"How do I check my credit score\", \"How can I improve my credit score\"],\n",
        "        \"responses\": [\"A credit score is a number that represents your creditworthiness. It is based on your credit history and is used by lenders to determine whether or not to lend you money. The higher your credit score, the more likely you are to be approved for credit.\", \"You can check your credit score for free on several websites such as Credit Karma and Credit Sesame.\"]\n",
        "    },\n",
        "    {\n",
        "       \"tag\": \"age\",\n",
        "       \"patterns\": [\"How old are you\", \"What's your age\", \"What is your age?\", \"Are you old?\", \"When were you created?\"],  # Added more patterns\n",
        "       \"responses\": [\"I don't have an age. I'm a chatbot.\", \"I was just born in the digital world.\", \"Age is just a number for me.\"]\n",
        "   },\n",
        "    {\n",
        "        \"tag\": \"location\",\n",
        "        \"patterns\": [\"Where are you located\", \"What is your location\", \"Where do you live\"],\n",
        "        \"responses\": [\"I exist in the digital realm.\", \"I don't have a physical location.\", \"I am everywhere and nowhere.\"]\n",
        "    },\n",
        "    {\n",
        "        \"tag\": \"favorite_food\",\n",
        "        \"patterns\": [\"What is your favorite food\", \"Do you like to eat\", \"What food do you enjoy\"],\n",
        "        \"responses\": [\"As a chatbot, I don't eat.\", \"I don't have taste buds, so I don't have favorite foods.\", \"I consume data, not food.\"]\n",
        "    },\n",
        "    {\n",
        "        \"tag\": \"favorite_color\",\n",
        "        \"patterns\": [\"What is your favorite color\", \"Do you have a favorite color\", \"What color do you like\"],\n",
        "        \"responses\": [\"I don't perceive colors.\", \"I don't have a favorite color.\", \"I'm a digital entity, so colors are not a factor for me.\"]\n",
        "    },\n",
        "    {\n",
        "        \"tag\": \"recommendation\",\n",
        "        \"patterns\": [\"Can you recommend something\", \"Suggest a movie\", \"Give me a book recommendation\"],\n",
        "        \"responses\": [\"I can provide recommendations based on your interests. Please tell me what you are looking for.\", \"To give you a good suggestion, I need to know more about your preferences.\"]\n",
        "    },\n",
        "    {\n",
        "        \"tag\": \"joke\",\n",
        "        \"patterns\": [\"Tell me a joke\", \"Make me laugh\", \"Do you know any jokes\"],\n",
        "        \"responses\": [\"Why don't scientists trust atoms? Because they make up everything!\", \"What do you call a lazy kangaroo? Pouch potato!\", \"Why did the bicycle fall over? Because it was two tired!\"]\n",
        "    },\n",
        "    {\n",
        "        \"tag\": \"news\",\n",
        "        \"patterns\": [\"What's the latest news\", \"Tell me the news\", \"Any news today\"],\n",
        "        \"responses\": [\"I don't have access to real-time news. You can check a news website or app for the latest updates.\"]\n",
        "    },\n",
        "    {\n",
        "        \"tag\": \"time\",\n",
        "        \"patterns\": [\"What time is it\", \"Tell me the time\", \"Do you know the time\"],\n",
        "        \"responses\": [\"I cannot provide the current time. Please check your device's time.\"]\n",
        "    },\n",
        "    {\n",
        "        \"tag\": \"definition\",\n",
        "        \"patterns\": [\"What does [word] mean\", \"Define [word]\", \"What is the definition of [word]\"],\n",
        "        \"responses\": [\"Please provide the word you would like me to define.\"]\n",
        "    },\n",
        "    {\n",
        "        \"tag\": \"calculator\",\n",
        "        \"patterns\": [\"Calculate [expression]\", \"What is [expression]\", \"Solve [expression]\"],\n",
        "        \"responses\": [\"Please provide the mathematical expression you would like me to calculate.\"]\n",
        "    },\n",
        "    {\n",
        "        \"tag\": \"sports\",\n",
        "        \"patterns\": [\"What are the latest sports scores\", \"Any sports news\", \"Tell me about sports\"],\n",
        "        \"responses\": [\"I don't have access to real-time sports scores. You can check a sports website or app for the latest updates.\"]\n",
        "    },\n",
        "    {\n",
        "        \"tag\": \"travel\",\n",
        "        \"patterns\": [\"Where should I travel\", \"Suggest a vacation spot\", \"Tell me about travel destinations\"],\n",
        "        \"responses\": [\"To give you a good travel suggestion, I need to know more about your interests and preferences.\"]\n",
        "    },\n",
        "    {\n",
        "        \"tag\": \"shopping\",\n",
        "        \"patterns\": [\"Where can I buy [item]\", \"Recommend a place to shop for [item]\", \"Where to find [item]\"],\n",
        "        \"responses\": [\"I can provide suggestions based on the item you are looking for. Please specify the item.\"]\n",
        "    },\n",
        "    {\n",
        "        \"tag\": \"programming\",\n",
        "        \"patterns\": [\"How do I code [language]\", \"What is [programming concept]\", \"Explain [programming topic]\"],\n",
        "        \"responses\": [\"Please provide the programming language or concept you would like me to explain.\"]\n",
        "    },\n",
        "    {\n",
        "        \"tag\": \"health\",\n",
        "        \"patterns\": [\"What are healthy habits\", \"How to stay healthy\", \"Tips for better health\"],\n",
        "        \"responses\": [\"Maintaining a balanced diet, regular exercise, adequate sleep, and stress management are key to staying healthy. Consult a healthcare professional for personalized advice.\"]\n",
        "    },\n",
        "    {\n",
        "        \"tag\": \"music\",\n",
        "        \"patterns\": [\"Recommend a song\", \"What are popular songs\", \"Tell me about music\"],\n",
        "        \"responses\": [\"To give you a good music suggestion, I need to know more about your music preferences.\"]\n",
        "    },\n",
        "    {\n",
        "        \"tag\": \"movies\",\n",
        "        \"patterns\": [\"Recommend a movie\", \"What are good movies\", \"Tell me about movies\"],\n",
        "        \"responses\": [\"To give you a good movie suggestion, I need to know more about your movie preferences.\"]\n",
        "    },\n",
        "    {\n",
        "        \"tag\": \"books\",\n",
        "        \"patterns\": [\"Recommend a book\", \"What are popular books\", \"Tell me about books\"],\n",
        "        \"responses\": [\"To give you a good book suggestion, I need to know more about your reading preferences.\"]\n",
        "    },\n",
        "    {\n",
        "        \"tag\": \"languages\",\n",
        "        \"patterns\": [\"What languages do you speak\", \"Can you speak [language]\", \"Tell me about languages\"],\n",
        "        \"responses\": [\"I can process and generate text in many languages.\", \"I can understand and respond in multiple languages.\"]\n",
        "    }\n",
        "\n",
        "]\n"
      ],
      "metadata": {
        "id": "jQoM9PzMYVMo"
      },
      "execution_count": null,
      "outputs": []
    },
    {
      "cell_type": "code",
      "source": [
        "vectorizer = TfidfVectorizer()\n",
        "clf = LogisticRegression(random_state=0, max_iter=10000)\n",
        "\n",
        "#Preprocess the data\n",
        "tags = []\n",
        "patterns = []\n",
        "for intent in intents:\n",
        "    for pattern in intent['patterns']:\n",
        "        tags.append(intent['tag'])\n",
        "        patterns.append(pattern)"
      ],
      "metadata": {
        "id": "sA3eL39idkAL"
      },
      "execution_count": null,
      "outputs": []
    },
    {
      "cell_type": "code",
      "source": [
        "x = vectorizer.fit_transform(patterns)\n",
        "y = tags\n",
        "clf.fit(x, y)"
      ],
      "metadata": {
        "id": "S2Z6xCuZfR5c"
      },
      "execution_count": null,
      "outputs": []
    },
    {
      "cell_type": "code",
      "source": [
        "def chatbot(input_text):\n",
        "    input_text = vectorizer.transform([input_text])\n",
        "    tag = clf.predict(input_text)[0]\n",
        "    for intent in intents:\n",
        "        if intent['tag'] == tag:\n",
        "            response = random.choice(intent['responses'])\n",
        "            return response"
      ],
      "metadata": {
        "id": "QEMvOn2BfaY_"
      },
      "execution_count": null,
      "outputs": []
    },
    {
      "cell_type": "code",
      "source": [
        "user_input = \"What's your age?\"\n",
        "response = chatbot(user_input)\n",
        "print(response)"
      ],
      "metadata": {
        "id": "ZARXNBFqfjvA"
      },
      "execution_count": null,
      "outputs": []
    },
    {
      "cell_type": "code",
      "source": [
        "user_input = \"Hello\"\n",
        "response = chatbot(user_input)\n",
        "print(response)"
      ],
      "metadata": {
        "id": "EmyGnB3Bfn8e"
      },
      "execution_count": null,
      "outputs": []
    },
    {
      "cell_type": "code",
      "source": [
        "user_input = \"budget\"\n",
        "response = chatbot(user_input)\n",
        "print(response)"
      ],
      "metadata": {
        "id": "iNEo51Ipf-IW"
      },
      "execution_count": null,
      "outputs": []
    },
    {
      "cell_type": "code",
      "source": [
        "user_input = \"hi\"\n",
        "response = chatbot(user_input)\n",
        "print(response)"
      ],
      "metadata": {
        "id": "aLlK-vRIgLLz"
      },
      "execution_count": null,
      "outputs": []
    },
    {
      "cell_type": "code",
      "source": [
        "user_input = \"age\"\n",
        "response = chatbot(user_input)\n",
        "print(response)"
      ],
      "metadata": {
        "id": "hVIttEjpgRmf"
      },
      "execution_count": null,
      "outputs": []
    },
    {
      "cell_type": "code",
      "source": [
        "user_input = \"what is a credit score?\"\n",
        "response = chatbot(user_input)\n",
        "print(response)"
      ],
      "metadata": {
        "id": "p5SmwDirgy92"
      },
      "execution_count": null,
      "outputs": []
    }
  ]
}